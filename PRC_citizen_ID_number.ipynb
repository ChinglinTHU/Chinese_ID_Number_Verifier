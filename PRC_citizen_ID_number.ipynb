{
 "cells": [
  {
   "cell_type": "code",
   "execution_count": 59,
   "metadata": {},
   "outputs": [],
   "source": [
    "lastbit=[1,0,'X',9,8,7,6,5,4,3,2]"
   ]
  },
  {
   "cell_type": "code",
   "execution_count": 60,
   "metadata": {},
   "outputs": [],
   "source": [
    "weights = [7,9,10,5,8,4,2,1,6,3,7,9,10,5,8,4,2]"
   ]
  },
  {
   "cell_type": "code",
   "execution_count": 61,
   "metadata": {},
   "outputs": [],
   "source": [
    "# check whether an ID number is correct\n",
    "# return True for a correct number and False for an incorrect number\n",
    "def verifyIDnumber(number):\n",
    "    if(len(number)!=18):\n",
    "        print(\"Error for not correct length\")\n",
    "        return False\n",
    "    else:\n",
    "        index = 0\n",
    "        sumx = 0\n",
    "        while(index<17):\n",
    "            sumx = sumx + int(number[index])*int(weights[index])\n",
    "            index = index + 1\n",
    "        # check the last bit\n",
    "        lastbitcalculated = lastbit[sumx % 11]\n",
    "        if(str(lastbitcalculated)==str(number[17])):\n",
    "            #print(\"The number passes the verification, but there may still alteratives\")\n",
    "            return True\n",
    "        else:\n",
    "            #print(\"A wrong ID number\")\n",
    "            return False"
   ]
  },
  {
   "cell_type": "code",
   "execution_count": 62,
   "metadata": {},
   "outputs": [],
   "source": [
    "#verfiy leapyear\n",
    "def leapyear(year):\n",
    "    if (year % 400 == 0):\n",
    "        return True\n",
    "    elif (year % 4 == 0):\n",
    "        return True\n",
    "    else:\n",
    "        return False\n",
    "            \n",
    "# verify whether a birthday is right\n",
    "monthwith31days = [1,3,5,7,8,10,12]\n",
    "monthwith30days = [4,6,9,11]\n",
    "def verifyBirthday(birthday):\n",
    "    if(len(str(birthday))!=8):\n",
    "        #print(\"length\")\n",
    "        return False\n",
    "    else:\n",
    "        year=int(birthday[0:4])\n",
    "        month = int(birthday[4:6])\n",
    "        day = int(birthday[6:8])\n",
    "        if(month in monthwith30days):\n",
    "            if(day == 31):\n",
    "                #print(\"31\")\n",
    "                return False\n",
    "            else:\n",
    "                return True\n",
    "        elif month==2:\n",
    "            if((day == 30) or (day == 31)):\n",
    "                #print(\"2 month\")\n",
    "                return False\n",
    "            elif(not leapyear(year)):\n",
    "                if(day == 29):\n",
    "                    #print(\"leapyear\")\n",
    "                    return False\n",
    "            else:\n",
    "                return True\n",
    "        else:\n",
    "            return True"
   ]
  },
  {
   "cell_type": "code",
   "execution_count": 65,
   "metadata": {},
   "outputs": [
    {
     "name": "stdout",
     "output_type": "stream",
     "text": [
      "One potential ID number is110110191101181911\n",
      "One potential ID number is110110191101261911\n",
      "One potential ID number is110110191103021911\n",
      "One potential ID number is110110191103101911\n",
      "One potential ID number is110110191103291911\n",
      "One potential ID number is110110191104091911\n",
      "One potential ID number is110110191104171911\n",
      "One potential ID number is110110191104251911\n",
      "One potential ID number is110110191105051911\n",
      "One potential ID number is110110191105131911\n",
      "One potential ID number is110110191105211911\n",
      "One potential ID number is110110191106011911\n",
      "One potential ID number is110110191106281911\n",
      "One potential ID number is110110191107081911\n",
      "One potential ID number is110110191107161911\n",
      "One potential ID number is110110191107241911\n",
      "One potential ID number is110110191108041911\n",
      "One potential ID number is110110191108121911\n",
      "One potential ID number is110110191108201911\n",
      "One potential ID number is110110191109191911\n",
      "One potential ID number is110110191109271911\n",
      "One potential ID number is110110191110061911\n",
      "One potential ID number is110110191110141911\n",
      "One potential ID number is110110191110221911\n",
      "One potential ID number is110110191110301911\n",
      "One potential ID number is110110191111021911\n",
      "One potential ID number is110110191111101911\n",
      "One potential ID number is110110191111291911\n",
      "One potential ID number is110110191112091911\n",
      "One potential ID number is110110191112171911\n",
      "One potential ID number is110110191112251911\n"
     ]
    }
   ],
   "source": [
    "# This is for the situation where you do not know the birthday \n",
    "# while you got other part of an ID number \n",
    "# for example, you got the ID information from Railway Tickets\n",
    "headpart = str(1101101911) # here is head part change it \n",
    "tailpart = str(1911) # here is tail part\n",
    "idset = []\n",
    "for month in range(12):\n",
    "    for date in range(31):\n",
    "        # here would be a check for the birthday which is not impelemented\n",
    "        birthday = \"{:02}\".format(month+1)+\"{:02}\".format(date+1)\n",
    "        oneidchoice = headpart + birthday + tailpart\n",
    "        #print(oneidchoice)\n",
    "        longbirthday = oneidchoice[6:14]\n",
    "        if(verifyBirthday(longbirthday)):\n",
    "            if(verifyIDnumber(oneidchoice)):\n",
    "                # print the potential ID number\n",
    "                print(\"One potential ID number is{}\".format(oneidchoice))\n",
    "                idset.append(oneidchoice)\n",
    "\n",
    "# now these numbers are stored in idset   "
   ]
  },
  {
   "cell_type": "code",
   "execution_count": null,
   "metadata": {},
   "outputs": [],
   "source": []
  }
 ],
 "metadata": {
  "kernelspec": {
   "display_name": "Python 3",
   "language": "python",
   "name": "python3"
  },
  "language_info": {
   "codemirror_mode": {
    "name": "ipython",
    "version": 3
   },
   "file_extension": ".py",
   "mimetype": "text/x-python",
   "name": "python",
   "nbconvert_exporter": "python",
   "pygments_lexer": "ipython3",
   "version": "3.7.0"
  }
 },
 "nbformat": 4,
 "nbformat_minor": 2
}
